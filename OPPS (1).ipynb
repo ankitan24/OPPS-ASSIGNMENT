{
  "nbformat": 4,
  "nbformat_minor": 0,
  "metadata": {
    "colab": {
      "provenance": []
    },
    "kernelspec": {
      "name": "python3",
      "display_name": "Python 3"
    },
    "language_info": {
      "name": "python"
    }
  },
  "cells": [
    {
      "cell_type": "markdown",
      "source": [
        "ASSIGNMENT OOPS"
      ],
      "metadata": {
        "id": "4lX75ni2Fw4v"
      }
    },
    {
      "cell_type": "code",
      "source": [],
      "metadata": {
        "id": "XuiBZISUGIvq"
      },
      "execution_count": null,
      "outputs": []
    },
    {
      "cell_type": "markdown",
      "source": [
        "ASSINGNMENT - OOPS"
      ],
      "metadata": {
        "id": "Vgpn_i-CGXLO"
      }
    },
    {
      "cell_type": "code",
      "source": [],
      "metadata": {
        "id": "4I2agIMbGdTD"
      },
      "execution_count": null,
      "outputs": []
    },
    {
      "cell_type": "markdown",
      "source": [
        "QUES 1  What are the five key concepts of Object-Oriented Programming (OOP)?"
      ],
      "metadata": {
        "id": "QR-Mdl7-Gfie"
      }
    },
    {
      "cell_type": "markdown",
      "source": [
        "Object-Oriented Programming (OOP) is a programming paradigm centered around objects and classes. Here are the five key concepts of OOP:\n",
        "\n",
        "1. **Encapsulation**: This concept involves bundling data (attributes) and methods (functions) that operate on the data into a single unit, known as a class. Encapsulation hides the internal state of the object from the outside world and only exposes a controlled interface. This helps in protecting the integrity of the data and ensures that the object's internal workings can be changed without affecting other parts of the program.\n",
        "\n",
        "2. **Abstraction**: Abstraction involves hiding complex implementation details and showing only the essential features of an object. It allows a programmer to focus on interactions at a high level without needing to understand the intricate details of how those interactions are implemented. In practice, abstraction is often implemented through abstract classes and interfaces.\n",
        "\n",
        "3. **Inheritance**: This concept allows a new class (called a subclass or derived class) to inherit properties and behaviors from an existing class (called a superclass or base class). Inheritance promotes code reusability and establishes a natural hierarchy between classes. For example, a `Bird` class might be a subclass of an `Animal` class, inheriting general animal attributes while adding bird-specific features.\n",
        "\n",
        "4. **Polymorphism**: Polymorphism enables objects of different classes to be treated as objects of a common superclass. It allows a single function or method to work in different ways depending on the object it is acting upon. Polymorphism can be achieved through method overriding (where a subclass provides a specific implementation of a method defined in its superclass) and method overloading (where multiple methods with the same name have different implementations based on their parameters).\n",
        "\n",
        "5. **Composition**: While not always listed with the core concepts, composition is an important concept in OOP. It refers to building complex objects from simpler ones by including instances of other classes as members. This allows for more flexible and modular design, where objects can be constructed by combining multiple components. For instance, a `Car` class might be composed of `Engine`, `Wheel`, and `Transmission` objects.\n",
        "\n",
        "These concepts work together to create a modular, reusable, and maintainable codebase, making OOP a powerful paradigm for software development.\n",
        "\n"
      ],
      "metadata": {
        "id": "xGQTpBzDGd62"
      }
    },
    {
      "cell_type": "markdown",
      "source": [
        "QUES : 2 Write a Python class for a `Car` with attributes for `make`, `model`, and `year`. Include a method to display the car's information?"
      ],
      "metadata": {
        "id": "ZeCwjfhzGvps"
      }
    },
    {
      "cell_type": "code",
      "source": [],
      "metadata": {
        "id": "WzA8M3g_G-qj"
      },
      "execution_count": null,
      "outputs": []
    },
    {
      "cell_type": "code",
      "source": [
        "class Car:\n",
        "    def __init__(self, make, model, year):\n",
        "\n",
        "        self.make = make\n",
        "        self.model = model\n",
        "        self.year = year\n",
        "\n",
        "    def display_info(self):\n",
        "\n",
        "        print(f\"Car Information:\\nMake: {self.make}\\nModel: {self.model}\\nYear: {self.year}\")\n",
        "\n",
        "my_car = Car(\"TATA\", \"HARRIER\", 2023)\n",
        "my_car.display_info()\n",
        "\n"
      ],
      "metadata": {
        "colab": {
          "base_uri": "https://localhost:8080/"
        },
        "id": "-aaNumEwHHQd",
        "outputId": "72accf86-85d7-49ca-a647-db1590c418bf"
      },
      "execution_count": null,
      "outputs": [
        {
          "output_type": "stream",
          "name": "stdout",
          "text": [
            "Car Information:\n",
            "Make: TATA\n",
            "Model: HARRIER\n",
            "Year: 2023\n"
          ]
        }
      ]
    },
    {
      "cell_type": "code",
      "source": [],
      "metadata": {
        "id": "GHmAQaWlHJVq"
      },
      "execution_count": null,
      "outputs": []
    },
    {
      "cell_type": "markdown",
      "source": [
        "QUES: 3  Explain the difference between instance methods and class methods. Provide an example of each?"
      ],
      "metadata": {
        "id": "7W-J5zr2Hs7O"
      }
    },
    {
      "cell_type": "markdown",
      "source": [
        "Instance Methods\n",
        "\n",
        "An instance method in object-oriented programming is a method that is specific to a class instance rather than the class itself. This indicates that an instance method has access to and control over the instance's state as well as indirect access to the class's attributes and methods.\n",
        "The most prevalent kind of method in object-oriented programming is an instance method, which is used to contain an object's action within its methods. They enable you to communicate with other objects in your programme, access an object's attributes, and change its state.\n",
        "\n"
      ],
      "metadata": {
        "id": "GDcEyIasITzj"
      }
    },
    {
      "cell_type": "code",
      "source": [],
      "metadata": {
        "id": "HLYgZxANIqu1"
      },
      "execution_count": null,
      "outputs": []
    },
    {
      "cell_type": "markdown",
      "source": [
        " Class Methods\n",
        "\n",
        "Class methods are associated with the class rather than instances. They are defined using the @classmethod decorator and take the class itself as the first parameter, usually named cls. Class methods are useful for tasks that involve the class rather than the instance, such as creating class-specific behaviors or modifying class-level attributes."
      ],
      "metadata": {
        "id": "-o0s9wDfI14P"
      }
    },
    {
      "cell_type": "code",
      "source": [
        "# EXAMPLE OF INSTANCE METHOD\n",
        "\n",
        "class Person:\n",
        "    def __init__(self, name, age):\n",
        "        self.name = name\n",
        "        self.age = age\n",
        "\n",
        "    def introduce(self):\n",
        "        return f\"Hi, I'm {self.name} and I'm {self.age} years old.\"\n",
        "\n",
        "\n",
        "person1 = Person(\"ANKIT\", 25)\n",
        "\n",
        "print(person1.introduce())\n"
      ],
      "metadata": {
        "colab": {
          "base_uri": "https://localhost:8080/"
        },
        "id": "TKpAQwJQI33L",
        "outputId": "3472713e-cd02-4641-fff8-f29a14c2bae0"
      },
      "execution_count": null,
      "outputs": [
        {
          "output_type": "stream",
          "name": "stdout",
          "text": [
            "Hi, I'm ANKIT and I'm 25 years old.\n"
          ]
        }
      ]
    },
    {
      "cell_type": "code",
      "source": [
        "\n",
        "# EXAMPLE OF CLASS METHOD\n",
        "\n",
        "class MyClass:\n",
        "    class_variable = 0\n",
        "\n",
        "    def __init__(self, value):\n",
        "        self.instance_variable = value\n",
        "\n",
        "    @classmethod\n",
        "    def class_method(cls, x):\n",
        "        cls.class_variable += x\n",
        "        return cls.class_variable\n",
        "\n",
        "\n",
        "obj1 = MyClass(3)\n",
        "obj2 = MyClass(15)\n",
        "\n",
        "print(MyClass.class_method(6))\n",
        "print(MyClass.class_method(7))\n"
      ],
      "metadata": {
        "colab": {
          "base_uri": "https://localhost:8080/"
        },
        "id": "YuRLnR4LJpnC",
        "outputId": "b1d60274-a838-4c5f-ae01-0182307afc13"
      },
      "execution_count": null,
      "outputs": [
        {
          "output_type": "stream",
          "name": "stdout",
          "text": [
            "6\n",
            "13\n"
          ]
        }
      ]
    },
    {
      "cell_type": "code",
      "source": [],
      "metadata": {
        "id": "EOkCjn3pJ464"
      },
      "execution_count": null,
      "outputs": []
    },
    {
      "cell_type": "markdown",
      "source": [
        " QUES 4 : How does Python implement method overloading? Give an example?"
      ],
      "metadata": {
        "id": "so8I38JGhvUQ"
      }
    },
    {
      "cell_type": "markdown",
      "source": [
        "Method Overloading:\n",
        "\n",
        "Two or more methods have the same name but different numbers of parameters or different types of parameters, or both. These methods are called overloaded methods and this is called method overloading.\n"
      ],
      "metadata": {
        "id": "2Q09ZwuhiNCY"
      }
    },
    {
      "cell_type": "code",
      "source": [
        "def product(a, b):\n",
        "    p = a * b\n",
        "    print(p)\n",
        "\n",
        "# Second product method\n",
        "# Takes three argument and print their\n",
        "# product\n",
        "\n",
        "\n",
        "def product(a, b, c):\n",
        "    p = a * b*c\n",
        "    print(p)\n",
        "    # Uncommenting the below line shows an error\n",
        "# product(4, 5)\n",
        "\n",
        "\n",
        "# This line will call the second product method\n",
        "product(4, 5, 6)"
      ],
      "metadata": {
        "colab": {
          "base_uri": "https://localhost:8080/"
        },
        "id": "4c5WOk1KiUaT",
        "outputId": "405571c4-b0b7-422d-cb97-e9d0d1d8e286"
      },
      "execution_count": null,
      "outputs": [
        {
          "output_type": "stream",
          "name": "stdout",
          "text": [
            "120\n"
          ]
        }
      ]
    },
    {
      "cell_type": "markdown",
      "source": [
        "QUES 5: What are the three types of access modifiers in Python? How are they denoted"
      ],
      "metadata": {
        "id": "SehrySvPjEbp"
      }
    },
    {
      "cell_type": "markdown",
      "source": [
        "A Class in Python has three types of access modifiers:\n",
        "\n",
        "Public Access Modifier: Public methods and fields can be accessed directly by any class.\n",
        "\n",
        "Protected Access Modifier: Protected methods and fields can be accessed within the same class it is declared and its sub class.\n",
        "\n",
        "Private Access Modifier: Private methods and fields can be only accessed within the same class it is declared.\n",
        "\n",
        "\n",
        "\n",
        "\n"
      ],
      "metadata": {
        "id": "RkgMQkDtqBoi"
      }
    },
    {
      "cell_type": "markdown",
      "source": [
        "Public: Attributes and methods with public access are accessible from outside the class. By default, all members of a class are public. They are denoted with no special prefix.\n"
      ],
      "metadata": {
        "id": "e-zBVTXfq7TO"
      }
    },
    {
      "cell_type": "code",
      "source": [
        "class MyClass:\n",
        "    def __init__(self, value):\n",
        "        self.value = value  # public attribute\n",
        "\n",
        "    def public_method(self):\n",
        "        return self.value  # public method\n"
      ],
      "metadata": {
        "id": "Gurss34VijSH"
      },
      "execution_count": null,
      "outputs": []
    },
    {
      "cell_type": "markdown",
      "source": [
        "Protected: Attributes and methods with protected access are intended to be accessed only within the class and its subclasses. They are denoted by a single underscore (_) prefix.\n",
        "\n"
      ],
      "metadata": {
        "id": "vt0zmYItrKcy"
      }
    },
    {
      "cell_type": "code",
      "source": [
        "class MyClass:\n",
        "    def __init__(self, value):\n",
        "        self._value = value  # protected attribute\n",
        "\n",
        "    def _protected_method(self):\n",
        "        return self._value  # protected method\n"
      ],
      "metadata": {
        "id": "_tz4aPIErAQJ"
      },
      "execution_count": null,
      "outputs": []
    },
    {
      "cell_type": "markdown",
      "source": [
        "Private: Attributes and methods with private access are intended to be accessed only within the class itself. They are denoted by a double underscore (__) prefix, which triggers name mangling to make them harder to access from outside the class."
      ],
      "metadata": {
        "id": "ye38RPZmrVrU"
      }
    },
    {
      "cell_type": "code",
      "source": [
        "class MyClass:\n",
        "    def __init__(self, value):\n",
        "        self.__value = value  # private attribute\n",
        "\n",
        "    def __private_method(self):\n",
        "        return self.__value  # private method\n"
      ],
      "metadata": {
        "id": "_pBx-aterZAa"
      },
      "execution_count": null,
      "outputs": []
    },
    {
      "cell_type": "markdown",
      "source": [
        " QUES 6 : Describe the five types of inheritance in Python. Provide a simple example of multiple inheritance?"
      ],
      "metadata": {
        "id": "-o-UoWNisvUt"
      }
    },
    {
      "cell_type": "markdown",
      "source": [
        "Inheritance is defined as the mechanism of inheriting the properties of the base class to the child class."
      ],
      "metadata": {
        "id": "Sn8BVPqns1Pb"
      }
    },
    {
      "cell_type": "markdown",
      "source": [
        "Single Inheritance:\n",
        "Single inheritance enables a derived class to inherit properties from a single parent class, thus enabling code reusability and the addition of new features to existing code."
      ],
      "metadata": {
        "id": "sYbmJcaD8stV"
      }
    },
    {
      "cell_type": "markdown",
      "source": [
        "Multiple Inheritance:\n",
        "When a class can be derived from more than one base class this type of inheritance is called multiple inheritances. In multiple inheritances, all the features of the base classes are inherited into the derived class.\n",
        "\n",
        "Multilevel Inheritance :\n",
        "In multilevel inheritance, features of the base class and the derived class are further inherited into the new derived class. This is similar to a relationship representing a child and a grandfather.\n",
        "\n",
        "Hierarchical Inheritance:\n",
        "When more than one derived class are created from a single base this type of inheritance is called hierarchical inheritance. In this program, we have a parent (base) class and two child (derived) classes.\n",
        "\n",
        "Hybrid Inheritance:\n",
        "Inheritance consisting of multiple types of inheritance is called hybrid inheritance.\n",
        "\n"
      ],
      "metadata": {
        "id": "qiP2FZPO85Ih"
      }
    },
    {
      "cell_type": "code",
      "source": [
        "# Python program for multiple inheritance\n",
        "\n",
        "\n",
        "# Here, we will create the Base class 1\n",
        "class Mother1:\n",
        "    mothername1 = \"\"\n",
        "    def mother1(self):\n",
        "        print(self.mothername1)\n",
        "\n",
        "# Here, we will create the Base class 2\n",
        "class Father1:\n",
        "    fathername1 = \"\"\n",
        "    def father1(self):\n",
        "        print(self.fathername1)\n",
        "\n",
        "# now, we will create the Derived class\n",
        "class Son1(Mother1, Father1):\n",
        "    def parents1(self):\n",
        "        print (\"Father name is :\", self.fathername1)\n",
        "        print (\"Mother name is :\", self.mothername1)\n",
        "\n",
        "# Driver's code\n",
        "s1 = Son1()\n",
        "s1.fathername1 = \"AMIT\"\n",
        "s1.mothername1 = \"PRIYANKA\"\n",
        "s1.parents1()"
      ],
      "metadata": {
        "colab": {
          "base_uri": "https://localhost:8080/"
        },
        "id": "ec35bD0S9Oy2",
        "outputId": "5b12a38d-1bdc-42d1-b2e7-1c726e22355e"
      },
      "execution_count": 2,
      "outputs": [
        {
          "output_type": "stream",
          "name": "stdout",
          "text": [
            "Father name is : AMIT\n",
            "Mother name is : PRIYANKA\n"
          ]
        }
      ]
    },
    {
      "cell_type": "code",
      "source": [],
      "metadata": {
        "id": "yDOrpeNm9rEc"
      },
      "execution_count": 2,
      "outputs": []
    },
    {
      "cell_type": "markdown",
      "source": [
        "QUES 7. What is the Method Resolution Order (MRO) in Python? How can you retrieve it programmatically\n",
        "\n",
        "Method Resolution Order :\n",
        "Method Resolution Order(MRO) it denotes the way a programming language resolves a method or attribute. Python supports classes inheriting from other classes. The class being inherited is called the Parent or Superclass, while the class that inherits is called the Child or Subclass. In python, method resolution order defines the order in which the base classes are searched when executing a method. First, the method or attribute is searched within a class and then it follows the order we specified while inheriting. This order is also called Linearization of a class and set of rules are called MRO(Method Resolution Order). While inheriting from another class, the interpreter needs a way to resolve the methods that are being called via an instance."
      ],
      "metadata": {
        "id": "y_ek9QMA-ARA"
      }
    },
    {
      "cell_type": "code",
      "source": [
        "\n",
        "class A:\n",
        "    def myname(self):\n",
        "        print(\"I am a class A\")\n",
        "\n",
        "class B(A):\n",
        "    def myname(self):\n",
        "        print(\"I am a class B\")\n",
        "\n",
        "class C(A):\n",
        "    def myname(self):\n",
        "        print(\"I am a class C\")\n",
        "c = C()\n",
        "print(c.myname())"
      ],
      "metadata": {
        "colab": {
          "base_uri": "https://localhost:8080/"
        },
        "id": "XWRv33Vv-ntS",
        "outputId": "9bc24c50-2ecb-40c8-a7a4-d370ff19801a"
      },
      "execution_count": 4,
      "outputs": [
        {
          "output_type": "stream",
          "name": "stdout",
          "text": [
            "I am a class C\n",
            "None\n"
          ]
        }
      ]
    },
    {
      "cell_type": "markdown",
      "source": [
        "QUES 8 .  Create an abstract base class `Shape` with an abstract method `area()`. Then create two subclasses `Circle` and `Rectangle` that implement the `area()` method\n"
      ],
      "metadata": {
        "id": "LkPjai8H_BoD"
      }
    },
    {
      "cell_type": "code",
      "source": [
        "from abc import ABC, abstractmethod\n",
        "import math\n",
        "\n",
        "# Abstract base class\n",
        "class Shape(ABC):\n",
        "    @abstractmethod\n",
        "    def area(self):\n",
        "        pass\n",
        "\n",
        "# Circle subclass implementing the area() method\n",
        "class Circle(Shape):\n",
        "    def _init_(self, radius):\n",
        "        self.radius = radius\n",
        "\n",
        "    def area(self):\n",
        "        return math.pi * self.radius ** 2\n",
        "\n",
        "# Rectangle subclass implementing the area() method\n",
        "class Rectangle(Shape):\n",
        "    def _init_(self, width, height):\n",
        "        self.width = width\n",
        "        self.height = height\n",
        "\n",
        "    def area(self):\n",
        "        return self.width * self.height\n",
        "\n",
        "# Example usage\n",
        "if __name__ == \"__main__\":\n",
        "    circle = Circle(5)\n",
        "    rectangle = Rectangle(4, 6)\n",
        "\n",
        "    print(f\"Circle area: {circle.area()}\")\n",
        "    print(f\"Rectangle area: {rectangle.area()}\")"
      ],
      "metadata": {
        "colab": {
          "base_uri": "https://localhost:8080/",
          "height": 211
        },
        "id": "Lo7cB1Sm-rah",
        "outputId": "50542ead-c7c8-4170-cc2e-40f2b122c4b0"
      },
      "execution_count": 16,
      "outputs": [
        {
          "output_type": "error",
          "ename": "TypeError",
          "evalue": "Circle() takes no arguments",
          "traceback": [
            "\u001b[0;31m---------------------------------------------------------------------------\u001b[0m",
            "\u001b[0;31mTypeError\u001b[0m                                 Traceback (most recent call last)",
            "\u001b[0;32m<ipython-input-16-95c734563063>\u001b[0m in \u001b[0;36m<cell line: 28>\u001b[0;34m()\u001b[0m\n\u001b[1;32m     27\u001b[0m \u001b[0;31m# Example usage\u001b[0m\u001b[0;34m\u001b[0m\u001b[0;34m\u001b[0m\u001b[0m\n\u001b[1;32m     28\u001b[0m \u001b[0;32mif\u001b[0m \u001b[0m__name__\u001b[0m \u001b[0;34m==\u001b[0m \u001b[0;34m\"__main__\"\u001b[0m\u001b[0;34m:\u001b[0m\u001b[0;34m\u001b[0m\u001b[0;34m\u001b[0m\u001b[0m\n\u001b[0;32m---> 29\u001b[0;31m     \u001b[0mcircle\u001b[0m \u001b[0;34m=\u001b[0m \u001b[0mCircle\u001b[0m\u001b[0;34m(\u001b[0m\u001b[0;36m5\u001b[0m\u001b[0;34m)\u001b[0m\u001b[0;34m\u001b[0m\u001b[0;34m\u001b[0m\u001b[0m\n\u001b[0m\u001b[1;32m     30\u001b[0m     \u001b[0mrectangle\u001b[0m \u001b[0;34m=\u001b[0m \u001b[0mRectangle\u001b[0m\u001b[0;34m(\u001b[0m\u001b[0;36m4\u001b[0m\u001b[0;34m,\u001b[0m \u001b[0;36m6\u001b[0m\u001b[0;34m)\u001b[0m\u001b[0;34m\u001b[0m\u001b[0;34m\u001b[0m\u001b[0m\n\u001b[1;32m     31\u001b[0m \u001b[0;34m\u001b[0m\u001b[0m\n",
            "\u001b[0;31mTypeError\u001b[0m: Circle() takes no arguments"
          ]
        }
      ]
    },
    {
      "cell_type": "code",
      "source": [],
      "metadata": {
        "id": "cfy_2FJgElzd"
      },
      "execution_count": null,
      "outputs": []
    },
    {
      "cell_type": "markdown",
      "source": [
        "QUES 9. Demonstrate polymorphism by creating a function that can work with different shape objects to calculate and print their areas."
      ],
      "metadata": {
        "id": "6VOozH0DFJxp"
      }
    },
    {
      "cell_type": "markdown",
      "source": [
        "Polymorphism allows objects of different classes to be treated as objects of a common superclass. In this example, we'll create a base class called Shape and derive different shape classes like Circle and Rectangle from it. We'll then create a function that calculates and prints the area of these shapes"
      ],
      "metadata": {
        "id": "S5eqqF3NFPb8"
      }
    },
    {
      "cell_type": "code",
      "source": [
        "import math\n",
        "\n",
        "# Base class\n",
        "class Shape:\n",
        "    def area(self):\n",
        "        raise NotImplementedError(\"Subclasses must implement this method.\")\n",
        "\n",
        "# Circle class\n",
        "class Circle(Shape):\n",
        "    def __init__(self, radius):\n",
        "        self.radius = radius\n",
        "\n",
        "    def area(self):\n",
        "        return math.pi * (self.radius ** 2)\n",
        "\n",
        "# Rectangle class\n",
        "class Rectangle(Shape):\n",
        "    def __init__(self, width, height):\n",
        "        self.width = width\n",
        "        self.height = height\n",
        "\n",
        "    def area(self):\n",
        "        return self.width * self.height\n",
        "\n",
        "# Function to calculate and print area of shapes\n",
        "def print_area(shape):\n",
        "    print(f\"The area of the {shape.__class__.__name__} is: {shape.area()}\")\n",
        "\n",
        "# Example usage\n",
        "circle = Circle(radius=3)\n",
        "rectangle = Rectangle(width=10, height=16)\n",
        "\n",
        "print_area(circle)\n",
        "print_area(rectangle)\n"
      ],
      "metadata": {
        "colab": {
          "base_uri": "https://localhost:8080/"
        },
        "id": "1868fiBUFcOj",
        "outputId": "12fc664f-8640-4b99-9411-295ddb12d775"
      },
      "execution_count": 8,
      "outputs": [
        {
          "output_type": "stream",
          "name": "stdout",
          "text": [
            "The area of the Circle is: 28.274333882308138\n",
            "The area of the Rectangle is: 160\n"
          ]
        }
      ]
    },
    {
      "cell_type": "code",
      "source": [],
      "metadata": {
        "id": "JEA-nzc-FN0h"
      },
      "execution_count": null,
      "outputs": []
    },
    {
      "cell_type": "markdown",
      "source": [
        "QUES 11. Write a class that overrides the `__str__` and `__add__` magic methods. What will these methods allow you to do.\n",
        "\n",
        "The __str__ and __add__ magic methods in Python allow you to define how an object is represented as a string and how objects of a class can be added together, respectively. Let's create a class that demonstrates both of these methods.\n",
        "\n",
        "__str__ Method:\n",
        "\n",
        "This method provides a human-readable string representation of the Vector object. When you print the object or use str() on it, this method is called.\n",
        "In this example, calling print(v1) will output Vector(2, 3).\n",
        "__add__ Method:\n",
        "\n",
        "This method allows you to use the + operator to add two Vector objects. It checks if the other object is an instance of Vector and, if so, returns a new Vector with the summed coordinates.\n",
        "For example, v3 = v1 + v2 creates a new Vector with coordinates (6, 8).\n",
        "\n",
        "\n",
        "The __str__ method enables a clear, customized representation of your objects, making them easier to read and debug.\n",
        "The __add__ method allows for intuitive arithmetic operations on objects, enhancing code readability and functionality. You can use the + operator to combine objects, making your class behave more like built-in types."
      ],
      "metadata": {
        "id": "rvFCU6wVF0M2"
      }
    },
    {
      "cell_type": "code",
      "source": [
        "class Vector:\n",
        "    def __init__(self, x, y):\n",
        "        self.x = x\n",
        "        self.y = y\n",
        "\n",
        "    def __str__(self):\n",
        "        # Returns a string representation of the vector\n",
        "        return f\"Vector({self.x}, {self.y})\"\n",
        "\n",
        "    def __add__(self, other):\n",
        "        # Adds two vectors together\n",
        "        if isinstance(other, Vector):\n",
        "            return Vector(self.x + other.x, self.y + other.y)\n",
        "        return NotImplemented\n",
        "\n",
        "# Example usage\n",
        "v1 = Vector(4, 7)\n",
        "v2 = Vector(2, 5)\n",
        "\n",
        "# Using __str__ to get a string representation of the vectors\n",
        "print(v1)  # Output: Vector(4, 7)\n",
        "print(v2)  # Output: Vector(2, 5)\n",
        "\n",
        "# Using __add__ to add two vectors\n",
        "v3 = v1 + v2\n",
        "print(v3)  # Output: Vector(6, 12)\n"
      ],
      "metadata": {
        "colab": {
          "base_uri": "https://localhost:8080/"
        },
        "id": "b7_VMmDtGZEg",
        "outputId": "b7213af0-1703-4223-f51b-a361ad6979ac"
      },
      "execution_count": 12,
      "outputs": [
        {
          "output_type": "stream",
          "name": "stdout",
          "text": [
            "Vector(4, 7)\n",
            "Vector(2, 5)\n",
            "Vector(6, 12)\n"
          ]
        }
      ]
    },
    {
      "cell_type": "markdown",
      "source": [
        "QUES 12. Create a decorator that measures and prints the execution time of a function.\n"
      ],
      "metadata": {
        "id": "WAXdv5juISjE"
      }
    },
    {
      "cell_type": "code",
      "source": [
        "import time\n",
        "\n",
        "def measure_execution_time(func):\n",
        "    def wrapper(*args, **kwargs):\n",
        "        start_time = time.time()\n",
        "        result = func(*args, **kwargs)\n",
        "        end_time = time.time()\n",
        "        execution_time = end_time - start_time\n",
        "        print(f\"Function {func.__name__} took {execution_time:.4f} seconds to execute\")\n",
        "        return result\n",
        "    return wrapper\n",
        "\n",
        "# Example usage\n",
        "@measure_execution_time\n",
        "def calculate_multiply(numbers):\n",
        "    tot = 1\n",
        "    for x in numbers:\n",
        "        tot *= x\n",
        "    return tot\n",
        "\n",
        "# Call the decorated function\n",
        "result = calculate_multiply([2, 4, 6, 8, 10])\n",
        "print(\"Result:\", result)\n"
      ],
      "metadata": {
        "colab": {
          "base_uri": "https://localhost:8080/"
        },
        "id": "s7wu315xI38v",
        "outputId": "60db7c2d-fea2-4fb9-ddeb-a5566f80eac4"
      },
      "execution_count": 18,
      "outputs": [
        {
          "output_type": "stream",
          "name": "stdout",
          "text": [
            "Function calculate_multiply took 0.0000 seconds to execute\n",
            "Result: 3840\n"
          ]
        }
      ]
    },
    {
      "cell_type": "markdown",
      "source": [
        "QUES 13. Explain the concept of the Diamond Problem in multiple inheritance. How does Python resolve it.\n",
        "\n",
        "\n",
        "The Diamond Problem is a common issue that arises in multiple inheritance scenarios, where a class inherits from two classes that both inherit from a common base class. This creates a diamond-shaped inheritance diagram. The problem occurs when there is ambiguity about which method or attribute should be inherited from the base class.\n",
        "\n",
        "Python uses a method resolution order (MRO) algorithm, specifically the C3 linearization algorithm, to resolve this ambiguity. The MRO defines the order in which base classes are searched when executing a method.\n",
        "\n",
        "When a method is called on an instance of a class, Python looks for the method in the following order:\n",
        "\n",
        "*The class itself.\n",
        "*The base classes in the order defined by the MRO.\n",
        "You can view the MRO of a class using the __mro__ attribute or the mro() method.\n",
        "\n"
      ],
      "metadata": {
        "id": "Gw8dtBCbKaRt"
      }
    },
    {
      "cell_type": "code",
      "source": [
        "class A:\n",
        "    def greet(self):\n",
        "        return \"Hello from A\"\n",
        "\n",
        "class B(A):\n",
        "    def greet(self):\n",
        "        return \"Hello from B\"\n",
        "\n",
        "class C(A):\n",
        "    def greet(self):\n",
        "        return \"Hello from C\"\n",
        "\n",
        "class D(B, C):\n",
        "    pass\n",
        "\n",
        "# Create an instance of D\n",
        "d = D()\n",
        "\n",
        "# Call the greet method\n",
        "print(d.greet())\n",
        "print(D.mro())\n"
      ],
      "metadata": {
        "colab": {
          "base_uri": "https://localhost:8080/"
        },
        "id": "LJG5UrjiMRdd",
        "outputId": "8c1887f2-6060-4bd8-bd12-01fe98582212"
      },
      "execution_count": 20,
      "outputs": [
        {
          "output_type": "stream",
          "name": "stdout",
          "text": [
            "Hello from B\n",
            "[<class '__main__.D'>, <class '__main__.B'>, <class '__main__.C'>, <class '__main__.A'>, <class 'object'>]\n"
          ]
        }
      ]
    },
    {
      "cell_type": "markdown",
      "source": [
        "QUES 14. Write a class method that keeps track of the number of instances created from a class.\n",
        "\n"
      ],
      "metadata": {
        "id": "gFFIirMDMjbo"
      }
    },
    {
      "cell_type": "code",
      "source": [
        "# code\n",
        "class geeks:\n",
        "\n",
        "\t# this is used to print the number\n",
        "\t# of instances of a class\n",
        "\tcounter = 0\n",
        "\n",
        "\t# constructor of geeks class\n",
        "\tdef __init__(self):\n",
        "\n",
        "\t\t# increment\n",
        "\t\tgeeks.counter += 1\n",
        "\n",
        "\n",
        "# object or instance of geeks class\n",
        "g1 = geeks()\n",
        "g2 = geeks()\n",
        "g3 = geeks()\n",
        "print(geeks.counter)\n"
      ],
      "metadata": {
        "colab": {
          "base_uri": "https://localhost:8080/"
        },
        "id": "8SW6qOXsGhNQ",
        "outputId": "d4481036-95e1-4513-ddf0-083f39047240"
      },
      "execution_count": 21,
      "outputs": [
        {
          "output_type": "stream",
          "name": "stdout",
          "text": [
            "3\n"
          ]
        }
      ]
    },
    {
      "cell_type": "markdown",
      "source": [
        "QUES 15. Implement a static method in a class that checks if a given year is a leap year."
      ],
      "metadata": {
        "id": "uw_BJSq4OfM6"
      }
    },
    {
      "cell_type": "code",
      "source": [
        "class Year:\n",
        "    @staticmethod\n",
        "    def is_leap_year(year):\n",
        "        \"\"\"Check if a given year is a leap year.\"\"\"\n",
        "        if (year % 4 == 0 and year % 100 != 0) or (year % 400 == 0):\n",
        "            return True\n",
        "        return False\n",
        "\n",
        "# Example usage\n",
        "year_to_check = 2028\n",
        "if Year.is_leap_year(year_to_check):\n",
        "    print(f\"{year_to_check} is a leap year.\")\n",
        "else:\n",
        "    print(f\"{year_to_check} is not a leap year.\")\n"
      ],
      "metadata": {
        "colab": {
          "base_uri": "https://localhost:8080/"
        },
        "id": "wFZ81_haOh0h",
        "outputId": "a35b5e55-ff7f-4a63-89ac-b9e81c9b1bbb"
      },
      "execution_count": 24,
      "outputs": [
        {
          "output_type": "stream",
          "name": "stdout",
          "text": [
            "2028 is a leap year.\n"
          ]
        }
      ]
    },
    {
      "cell_type": "code",
      "source": [],
      "metadata": {
        "id": "DwYIQqKuOA1-"
      },
      "execution_count": null,
      "outputs": []
    }
  ]
}